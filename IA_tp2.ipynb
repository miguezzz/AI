{
  "nbformat": 4,
  "nbformat_minor": 0,
  "metadata": {
    "colab": {
      "provenance": []
    },
    "kernelspec": {
      "name": "python3",
      "display_name": "Python 3"
    },
    "language_info": {
      "name": "python"
    }
  },
  "cells": [
    {
      "cell_type": "markdown",
      "source": [
        "#Exercício Prático 02 - Victor Miguez - 20220022719\n",
        "##Agente Reativo Simples em Ambiente Completamente Observável\n",
        "\n",
        "O exercício proposto é a implementação de um agente reativo simples em um ambiente totalmente observável utilizando a linguagem Python. O objetivo é simular um aspirador de pó que limpa dois cômodos existentes e retornar sua pontuação de limpeza no final. Desta vez, o desempenho será comparado com o exercício anterior, onde tínhamos um ambiente parcialmente observável."
      ],
      "metadata": {
        "id": "2oqcLEEnDz2_"
      }
    },
    {
      "cell_type": "markdown",
      "source": [
        "#Classe Aspirador de Pó"
      ],
      "metadata": {
        "id": "XNdt9JkMGc_a"
      }
    },
    {
      "cell_type": "markdown",
      "source": [
        "Começamos inicializando a classe do aspirador que recebe a localização (cômodo da esquerda ou direita) e inicializa a pontuação de limpeza do robô como 0."
      ],
      "metadata": {
        "id": "uwpdmP30EfBE"
      }
    },
    {
      "cell_type": "code",
      "execution_count": null,
      "metadata": {
        "id": "E14hZ2poDvgn"
      },
      "outputs": [],
      "source": [
        "class Asporadordepi:\n",
        "    def __init__(self, local):\n",
        "        self.local = local\n",
        "        self.pontos = 0"
      ]
    },
    {
      "cell_type": "markdown",
      "source": [
        "A função \"start\" dará inicio ao funcionamento do robô, chamando a função de scan, que mantém o robô atualizado sobre a sujeira no ambiente."
      ],
      "metadata": {
        "id": "3CLbsnssEk83"
      }
    },
    {
      "cell_type": "code",
      "source": [
        "def start(self, quartos):\n",
        "       self.scan(quartos)"
      ],
      "metadata": {
        "id": "X-JSJE1oEyta"
      },
      "execution_count": null,
      "outputs": []
    },
    {
      "cell_type": "markdown",
      "source": [
        "A função scan, por sua vez, faz toda a verificação dos limites de índice no array, bem como da sujeira nos cômodos. Após as verificações, a função move (ou não, caso não haja nenhuma sujeira) o robô pelos cômodos e executa a chamada da função de limpeza."
      ],
      "metadata": {
        "id": "I6KCjJs9E5M9"
      }
    },
    {
      "cell_type": "code",
      "source": [
        "def scan(self, quartos):\n",
        "        if (quartos[self.local].getSujo()):\n",
        "            self.limpa(quartos)\n",
        "        elif ((self.local + 1 < len(quartos)) & (quartos[1].getSujo() == 1)):\n",
        "            self.direita()\n",
        "            self.limpa(quartos)\n",
        "        elif ((self.local - 1 > -1) & (quartos[0].getSujo() == 1)):\n",
        "            self.esquerda()\n",
        "            self.limpa(quartos)\n",
        "        else:\n",
        "            self.noOp()"
      ],
      "metadata": {
        "id": "u9GS40oDE4rD"
      },
      "execution_count": null,
      "outputs": []
    },
    {
      "cell_type": "markdown",
      "source": [
        "A função de limpeza atualiza a sujeira do quarto para 0 (limpo) e incrementa a pontuação do robô."
      ],
      "metadata": {
        "id": "pyZ49_Q2FWGj"
      }
    },
    {
      "cell_type": "code",
      "source": [
        "def limpa(self, quartos):\n",
        "        quartos[self.local].setSujo(0)\n",
        "        self.pontos += 1"
      ],
      "metadata": {
        "id": "YutHza5DFTbT"
      },
      "execution_count": null,
      "outputs": []
    },
    {
      "cell_type": "markdown",
      "source": [
        "Há, também, as funções que movem (ou não) o robô e a função que retorna seus pontos."
      ],
      "metadata": {
        "id": "LPI3HjcHFxYX"
      }
    },
    {
      "cell_type": "code",
      "source": [
        "def esquerda(self):\n",
        "        self.local -= 1\n",
        "\n",
        "def direita(self):\n",
        "    self.local += 1\n",
        "\n",
        "def noOp(self):\n",
        "    pass\n",
        "\n",
        "def getPontos(self):\n",
        "    return self.pontos"
      ],
      "metadata": {
        "id": "FYPe_zmOFslA"
      },
      "execution_count": null,
      "outputs": []
    },
    {
      "cell_type": "markdown",
      "source": [
        "#Classe Quarto"
      ],
      "metadata": {
        "id": "VhLI8632Gmj7"
      }
    },
    {
      "cell_type": "markdown",
      "source": [
        "Neste trecho, inicializa-se a classe Quarto com o valor de sujeira: 0 para limpo e 1 para sujo, além de garantir o retorno e a definição da sujeira nos quartos."
      ],
      "metadata": {
        "id": "lSWZgi9DGn17"
      }
    },
    {
      "cell_type": "code",
      "source": [
        "class Quarto:\n",
        "    def __init__(self, sujo):\n",
        "        self.sujo = sujo\n",
        "\n",
        "    def getSujo(self):\n",
        "        return self.sujo\n",
        "\n",
        "    def setSujo(self, sujo):\n",
        "        self.sujo = sujo"
      ],
      "metadata": {
        "id": "2im45AROGo6N"
      },
      "execution_count": null,
      "outputs": []
    },
    {
      "cell_type": "markdown",
      "source": [
        "#Função Main"
      ],
      "metadata": {
        "id": "3YZvURk-G_Mb"
      }
    },
    {
      "cell_type": "markdown",
      "source": [
        "Na função main, temos \"timer\" como parâmetro, que dirá quantas \"passadas\" o robô fará (no caso do exercício, é pedido 1000 unidades de tempo). O aspirador de pó é inicializado e randomicamente é escolhido um valor para seu cômodo inicial (lembrando que a biblioteca \"random\" foi importada logo no início do código)."
      ],
      "metadata": {
        "id": "cCV9ryGqHDrM"
      }
    },
    {
      "cell_type": "code",
      "source": [
        "import random"
      ],
      "metadata": {
        "id": "K35is6GbHD-L"
      },
      "execution_count": null,
      "outputs": []
    },
    {
      "cell_type": "code",
      "source": [
        "def main(timer):\n",
        "    robson = Asporadordepi(random.randint(0, 1))"
      ],
      "metadata": {
        "id": "Qag6MlWrHNFC"
      },
      "execution_count": null,
      "outputs": []
    },
    {
      "cell_type": "markdown",
      "source": [
        "Criamos o array dos quartos e inserimos 2 cômodos no array, utilizando como parâmetro (também randomicamente) valor entre 0 e 1 para definir se o quarto está sujo ou não."
      ],
      "metadata": {
        "id": "zqKPiTk_HTZG"
      }
    },
    {
      "cell_type": "code",
      "source": [
        "quartos = []\n",
        "\n",
        "for _ in range(0, 2):\n",
        "    quartos.insert(_, Quarto(random.randint(0, 1)))"
      ],
      "metadata": {
        "id": "raxAyg6EHV3O"
      },
      "execution_count": null,
      "outputs": []
    },
    {
      "cell_type": "markdown",
      "source": [
        "Na iteração abaixo, damos início ao robô tantas vezes quanto forem pedidas (1000, no nosso caso) e a sujeira é randomizada, pois o exercício pede que a sujeira apareça espontaneamente com o passar do tempo."
      ],
      "metadata": {
        "id": "1gESOauSHYie"
      }
    },
    {
      "cell_type": "code",
      "source": [
        "for _ in range(0, timer):\n",
        "    robson.start(quartos)\n",
        "\n",
        "    #randomiza a sujeira\n",
        "    for quarto in quartos:\n",
        "            quarto.setSujo(random.randint(0, 1))"
      ],
      "metadata": {
        "id": "nBy6fpZnHeyb"
      },
      "execution_count": null,
      "outputs": []
    },
    {
      "cell_type": "markdown",
      "source": [
        "No final do código, imprime-se a quantidade total de pontos (número de limpezas) do robô."
      ],
      "metadata": {
        "id": "riK9Vov8Hi9D"
      }
    },
    {
      "cell_type": "code",
      "source": [
        "print(str(robson.getPontos()))"
      ],
      "metadata": {
        "id": "kHORSUTfHinb"
      },
      "execution_count": null,
      "outputs": []
    },
    {
      "cell_type": "markdown",
      "source": [
        "Por fim, executamos a main."
      ],
      "metadata": {
        "id": "GGUl8HRjHllc"
      }
    },
    {
      "cell_type": "code",
      "source": [
        "main(1000)"
      ],
      "metadata": {
        "id": "p_rSwdstHnpI"
      },
      "execution_count": null,
      "outputs": []
    },
    {
      "cell_type": "markdown",
      "source": [
        "#Código Completo"
      ],
      "metadata": {
        "id": "vvQZQxiFHoIf"
      }
    },
    {
      "cell_type": "code",
      "source": [
        "import random\n",
        "\n",
        "class Asporadordepi:\n",
        "    def __init__(self, local):\n",
        "        self.local = local\n",
        "        self.pontos = 0\n",
        "\n",
        "    def start(self, quartos):\n",
        "       self.scan(quartos)\n",
        "\n",
        "    def limpa(self, quartos):\n",
        "        quartos[self.local].setSujo(0)\n",
        "        self.pontos += 1\n",
        "\n",
        "    def scan(self, quartos):\n",
        "        if (quartos[self.local].getSujo()):\n",
        "            self.limpa(quartos)\n",
        "        elif ((self.local + 1 < len(quartos)) & (quartos[1].getSujo() == 1)):\n",
        "            self.direita()\n",
        "            self.limpa(quartos)\n",
        "        elif ((self.local - 1 > -1) & (quartos[0].getSujo() == 1)):\n",
        "            self.esquerda()\n",
        "            self.limpa(quartos)\n",
        "        else:\n",
        "            self.noOp()\n",
        "\n",
        "    def esquerda(self):\n",
        "        self.local -= 1\n",
        "\n",
        "    def direita(self):\n",
        "        self.local += 1\n",
        "\n",
        "    def noOp(self):\n",
        "        pass\n",
        "\n",
        "    def getPontos(self):\n",
        "        return self.pontos\n",
        "\n",
        "class Quarto:\n",
        "    def __init__(self, sujo):\n",
        "        self.sujo = sujo\n",
        "\n",
        "    def getSujo(self):\n",
        "        return self.sujo\n",
        "\n",
        "    def setSujo(self, sujo):\n",
        "        self.sujo = sujo\n",
        "\n",
        "def main(timer):\n",
        "    robson = Asporadordepi(random.randint(0, 1))\n",
        "    quartos = []\n",
        "\n",
        "    for _ in range(0, 2):\n",
        "        quartos.insert(_, Quarto(random.randint(0, 1)))\n",
        "\n",
        "    for _ in range(0, timer):\n",
        "        robson.start(quartos)\n",
        "\n",
        "        #randomiza a sujeira\n",
        "        for quarto in quartos:\n",
        "            quarto.setSujo(random.randint(0, 1))\n",
        "\n",
        "    print(str(robson.getPontos()))\n",
        "main(1000)"
      ],
      "metadata": {
        "colab": {
          "base_uri": "https://localhost:8080/"
        },
        "id": "qkLXh9NjHoau",
        "outputId": "fa41541f-8eba-4b65-e3b9-67d2230d7fef"
      },
      "execution_count": 5,
      "outputs": [
        {
          "output_type": "stream",
          "name": "stdout",
          "text": [
            "773\n"
          ]
        }
      ]
    },
    {
      "cell_type": "markdown",
      "source": [
        "Neste código, obtemos uma média de pontuação por volta dos 750 pontos. Melhor do que o caso anterior, onde tínhamos a média de 500 pontos."
      ],
      "metadata": {
        "id": "8TO1UiPgH7on"
      }
    }
  ]
}