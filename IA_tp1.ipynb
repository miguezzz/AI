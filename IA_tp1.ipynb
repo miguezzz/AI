{
  "nbformat": 4,
  "nbformat_minor": 0,
  "metadata": {
    "colab": {
      "provenance": []
    },
    "kernelspec": {
      "name": "python3",
      "display_name": "Python 3"
    },
    "language_info": {
      "name": "python"
    }
  },
  "cells": [
    {
      "cell_type": "markdown",
      "source": [
        "#Exercício Prático 01 - Victor Miguez - 20220022719\n",
        "##Agente Reativo Simples em Ambiente Parcialmente Observável\n",
        "\n",
        "O exercício proposto é a implementação de um agente reativo simples em um ambiente parcialmente observável utilizando a linguagem Python. O objetivo é simular um aspirador de pó que limpa os dois cômodos existentes e retornar sua pontuação de limpeza no final."
      ],
      "metadata": {
        "id": "O8qIwcLGx6N4"
      }
    },
    {
      "cell_type": "markdown",
      "source": [
        "#Classe do Aspirador de pó"
      ],
      "metadata": {
        "id": "5c7BLpj-5gjz"
      }
    },
    {
      "cell_type": "markdown",
      "source": [
        "Começamos inicializando a classe do aspirador que receberá a localização (cômodo da esquerda ou direita) e irá inicializar a pontuação de limpeza do robô como 0."
      ],
      "metadata": {
        "id": "K8aFQ1Uu5zaG"
      }
    },
    {
      "cell_type": "code",
      "source": [
        "class Asporadordepi:\n",
        "    def __init__(self, local):\n",
        "        self.local = local\n",
        "        self.pontos = 0"
      ],
      "metadata": {
        "id": "lITjyxbp5lfl"
      },
      "execution_count": 3,
      "outputs": []
    },
    {
      "cell_type": "markdown",
      "source": [
        "A função \"start\" dará inicio ao funcionamento do robô, chamando a função de limpeza."
      ],
      "metadata": {
        "id": "4wWU0Taq7C6k"
      }
    },
    {
      "cell_type": "code",
      "source": [
        "def start(self, quartos):\n",
        "       self.limpa(quartos)"
      ],
      "metadata": {
        "id": "JUHlQNyJ7Lth"
      },
      "execution_count": 4,
      "outputs": []
    },
    {
      "cell_type": "markdown",
      "source": [
        "A função \"limpa\" recebe o array de quartos e executa a limpeza do cômodo. Primeiro, ocorre a verificação do cômodo para encontrar (ou não) sujeira. Caso haja sujeira no cômodo, o programa atualiza a variável \"sujo\" para 0 (que significa que o cômodo está limpo), incrementa a pontuação do robô e move o robô para o cômodo adjacente."
      ],
      "metadata": {
        "id": "F1Kdxyww7dGC"
      }
    },
    {
      "cell_type": "code",
      "source": [
        "def limpa(self, quartos):\n",
        "        if (quartos[self.local].getSujo()):\n",
        "            quartos[self.local].setSujo(0)\n",
        "            self.pontos += 1\n",
        "            print(\"limpou\")\n",
        "            self.move(quartos)\n",
        "        else:\n",
        "            self.noOp()\n",
        "            self.move(quartos)"
      ],
      "metadata": {
        "id": "VoMWAxp_7cFo"
      },
      "execution_count": 5,
      "outputs": []
    },
    {
      "cell_type": "markdown",
      "source": [
        "O trecho a seguir faz a movimentação do robô entre os cômodos. Verifica-se a localização do robô e o movimenta para o cômodo adjacente."
      ],
      "metadata": {
        "id": "GdvteQ2b9a-1"
      }
    },
    {
      "cell_type": "code",
      "source": [
        "def move(self, quartos):\n",
        "       if(self.local + 1 < len(quartos)):\n",
        "           self.direita()\n",
        "       else:\n",
        "           self.esquerda()"
      ],
      "metadata": {
        "id": "9T_txulP9Xs1"
      },
      "execution_count": null,
      "outputs": []
    },
    {
      "cell_type": "markdown",
      "source": [
        "Abaixo temos as funções de movimentação para a esquerda e direita entre os 2 cômodos. A função noOp mantém o robô parado, no caso de o cômodo não estar sujo."
      ],
      "metadata": {
        "id": "yDfpjjMi-owF"
      }
    },
    {
      "cell_type": "code",
      "source": [
        "def esquerda(self):\n",
        "  self.local -= 1\n",
        "\n",
        "def direita(self):\n",
        "  self.local += 1\n",
        "\n",
        "def noOp(self):\n",
        "  print(\"ja tava limpo\")"
      ],
      "metadata": {
        "id": "fv4y_PTu-bMm"
      },
      "execution_count": 8,
      "outputs": []
    },
    {
      "cell_type": "markdown",
      "source": [
        "a função getPontos retorna a quantidade de pontos do robô."
      ],
      "metadata": {
        "id": "tSRNyhpG-7xN"
      }
    },
    {
      "cell_type": "code",
      "source": [
        "def getPontos(self):\n",
        "        return self.pontos"
      ],
      "metadata": {
        "id": "aMPO_wk9-7FA"
      },
      "execution_count": null,
      "outputs": []
    },
    {
      "cell_type": "markdown",
      "source": [
        "#Classe Quarto"
      ],
      "metadata": {
        "id": "E8k0phVi_GwT"
      }
    },
    {
      "cell_type": "markdown",
      "source": [
        "Neste trecho, inicializa-se a classe Quarto com o valor de sujeira: 0 para limpo e 1 para sujo."
      ],
      "metadata": {
        "id": "SOfYeull_XFL"
      }
    },
    {
      "cell_type": "code",
      "source": [
        "class Quarto:\n",
        "    def __init__(self, sujo):\n",
        "        self.sujo = sujo\n",
        "\n",
        "    def getSujo(self):\n",
        "        return self.sujo\n",
        "\n",
        "    def setSujo(self, sujo):\n",
        "        self.sujo = sujo"
      ],
      "metadata": {
        "id": "fo9_l6e7_Vol"
      },
      "execution_count": null,
      "outputs": []
    },
    {
      "cell_type": "markdown",
      "source": [
        "#Função main"
      ],
      "metadata": {
        "id": "7GLyPPhh_5dr"
      }
    },
    {
      "cell_type": "markdown",
      "source": [
        "Na função main, temos \"timer\" como parâmetro, que dirá quantas \"passadas\" o robô fará (no caso do exercício, é pedido 1000 unidades de tempo). O aspirador de pó é inicializado e randomicamente é escolhido um valor para seu cômodo inicial (lembrando que a biblioteca \"random\" foi importada logo no início do código)."
      ],
      "metadata": {
        "id": "ftbsuqHY_-x9"
      }
    },
    {
      "cell_type": "code",
      "source": [
        "import random"
      ],
      "metadata": {
        "id": "-nYkNR3DAg3x"
      },
      "execution_count": null,
      "outputs": []
    },
    {
      "cell_type": "code",
      "source": [
        "def main(timer):\n",
        "    robson = Asporadordepi(random.randint(0, 1))"
      ],
      "metadata": {
        "id": "IGI1alTAAALc"
      },
      "execution_count": null,
      "outputs": []
    },
    {
      "cell_type": "markdown",
      "source": [
        "Criamos o array dos quartos e inserimos 2 cômodos no array, utilizando como parâmetro (também randomicamente) valor entre 0 e 1 para definir se o quarto está sujo ou não."
      ],
      "metadata": {
        "id": "mCbfFycjA92i"
      }
    },
    {
      "cell_type": "code",
      "source": [
        "quartos = []\n",
        "\n",
        "for _ in range(0, 2):\n",
        "    quartos.insert(_, Quarto(random.randint(0, 1)))"
      ],
      "metadata": {
        "id": "a-4dRNj9A9cL"
      },
      "execution_count": null,
      "outputs": []
    },
    {
      "cell_type": "markdown",
      "source": [
        "Na iteração abaixo, damos início ao robô tantas vezes quanto forem pedidas (1000, no nosso caso) e a sujeira é randomizada, pois o exercício pede que a sujeira apareça espontaneamente com o passar do tempo."
      ],
      "metadata": {
        "id": "e43R_pwyD9W0"
      }
    },
    {
      "cell_type": "code",
      "source": [
        "for _ in range(0, timer):\n",
        "    robson.start(quartos)\n",
        "\n",
        "    #randomiza a sujeira\n",
        "    for quarto in quartos:\n",
        "            quarto.setSujo(random.randint(0, 1))"
      ],
      "metadata": {
        "id": "6_l3Stx9B1ay"
      },
      "execution_count": null,
      "outputs": []
    },
    {
      "cell_type": "markdown",
      "source": [
        "No final do código, imprime-se a quantidade total de pontos (número de limpezas) do robô."
      ],
      "metadata": {
        "id": "eruNrV7zE_Kt"
      }
    },
    {
      "cell_type": "code",
      "source": [
        "print(str(robson.getPontos()))"
      ],
      "metadata": {
        "id": "iDgeMjxDE2Xv"
      },
      "execution_count": null,
      "outputs": []
    },
    {
      "cell_type": "markdown",
      "source": [
        "Por fim, executamos a main."
      ],
      "metadata": {
        "id": "oCcdX1oyFPbx"
      }
    },
    {
      "cell_type": "code",
      "source": [
        "main(1000)"
      ],
      "metadata": {
        "id": "XcShr46gFNWJ"
      },
      "execution_count": null,
      "outputs": []
    },
    {
      "cell_type": "markdown",
      "source": [
        "#Código Completo"
      ],
      "metadata": {
        "id": "OefHXahRFYbD"
      }
    },
    {
      "cell_type": "markdown",
      "source": [
        "Veja o código completo abaixo:"
      ],
      "metadata": {
        "id": "dNTxsy0WFjZF"
      }
    },
    {
      "cell_type": "code",
      "source": [
        "import random\n",
        "\n",
        "class Asporadordepi:\n",
        "    def __init__(self, local):\n",
        "        self.local = local\n",
        "        self.pontos = 0\n",
        "\n",
        "    def start(self, quartos):\n",
        "       self.limpa(quartos)\n",
        "\n",
        "    def limpa(self, quartos):\n",
        "        if (quartos[self.local].getSujo()):\n",
        "            quartos[self.local].setSujo(0)\n",
        "            self.pontos += 1\n",
        "            #print(\"limpou\")\n",
        "            self.move(quartos)\n",
        "        else:\n",
        "            self.noOp()\n",
        "            self.move(quartos)\n",
        "\n",
        "    def move(self, quartos):\n",
        "       # VERIFICA SE PODE IR PRA DIREITA\n",
        "       if(self.local + 1 < len(quartos)):\n",
        "           self.direita()\n",
        "       else:\n",
        "           self.esquerda()\n",
        "\n",
        "    def esquerda(self):\n",
        "        self.local -= 1\n",
        "\n",
        "    def direita(self):\n",
        "        self.local += 1\n",
        "\n",
        "    def noOp(self):\n",
        "        #print(\"ja tava limpo\")\n",
        "        pass\n",
        "\n",
        "    def getPontos(self):\n",
        "        return self.pontos\n",
        "\n",
        "\n",
        "class Quarto:\n",
        "    def __init__(self, sujo):\n",
        "        self.sujo = sujo\n",
        "\n",
        "    def getSujo(self):\n",
        "        return self.sujo\n",
        "\n",
        "    def setSujo(self, sujo):\n",
        "        self.sujo = sujo\n",
        "\n",
        "\n",
        "def main(timer):\n",
        "    robson = Asporadordepi(random.randint(0, 1))\n",
        "    quartos = []\n",
        "\n",
        "    for _ in range(0, 2):\n",
        "        quartos.insert(_, Quarto(random.randint(0, 1)))\n",
        "\n",
        "    for _ in range(0, timer):\n",
        "        robson.start(quartos)\n",
        "\n",
        "        #randomiza a sujeira\n",
        "        for quarto in quartos:\n",
        "            quarto.setSujo(random.randint(0, 1))\n",
        "\n",
        "    print(str(robson.getPontos()))\n",
        "main(1000)"
      ],
      "metadata": {
        "colab": {
          "base_uri": "https://localhost:8080/"
        },
        "id": "XQNMWG2pFXSM",
        "outputId": "5a25096e-806e-4dc3-889a-b727616d6aca"
      },
      "execution_count": 10,
      "outputs": [
        {
          "output_type": "stream",
          "name": "stdout",
          "text": [
            "482\n"
          ]
        }
      ]
    }
  ]
}